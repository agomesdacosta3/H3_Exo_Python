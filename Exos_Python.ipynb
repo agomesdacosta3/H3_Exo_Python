{
  "nbformat": 4,
  "nbformat_minor": 0,
  "metadata": {
    "colab": {
      "provenance": [],
      "collapsed_sections": [],
      "authorship_tag": "ABX9TyOyumYVldqxye7srtFWmN/V",
      "include_colab_link": true
    },
    "kernelspec": {
      "name": "python3",
      "display_name": "Python 3"
    },
    "language_info": {
      "name": "python"
    }
  },
  "cells": [
    {
      "cell_type": "markdown",
      "metadata": {
        "id": "view-in-github",
        "colab_type": "text"
      },
      "source": [
        "<a href=\"https://colab.research.google.com/github/agomesdacosta3/H3_Exo_Python/blob/main/Exos_Python.ipynb\" target=\"_parent\"><img src=\"https://colab.research.google.com/assets/colab-badge.svg\" alt=\"Open In Colab\"/></a>"
      ]
    },
    {
      "cell_type": "markdown",
      "source": [
        "**EXERCICES PYTHON**"
      ],
      "metadata": {
        "id": "CRsfz1Sh-p_W"
      }
    },
    {
      "cell_type": "markdown",
      "source": [
        "2.1 Condition et produit\n",
        "\n",
        "Ecrire un algorithme qui demande deux nombres à l’utilisateur et l’informe en suite si leur produit est négatif ou positif (on laisse de côté le cas où le produit est nul). Attention toute fois : on ne doit pas calculer le produit des deux nombres."
      ],
      "metadata": {
        "id": "KfwPSl3s_wN_"
      }
    },
    {
      "cell_type": "markdown",
      "source": [
        "Pseudo code : \n",
        "\n",
        "int a,b // déclaration de 2 entiers à utiliser\n",
        "\n",
        "Si (a > 0 ET b < 0) OU Si (a < 0 ET b > 0) alors\n",
        "\n",
        "  afficher 'negatif'\n",
        "\n",
        "Sinon \n",
        "  \n",
        "  afficher 'positif'\n",
        "\n",
        "FinSi\n",
        "\n"
      ],
      "metadata": {
        "id": "JvP6KJe__wOA"
      }
    },
    {
      "cell_type": "markdown",
      "source": [
        "Python :"
      ],
      "metadata": {
        "id": "uz9y-LT5_wOA"
      }
    },
    {
      "cell_type": "code",
      "source": [
        "a = 5\n",
        "b = -2\n",
        "\n",
        "if (a > 0) & (b < 0) | (b > 0) & (a < 0):\n",
        "  print(\"negatif\")\n",
        "else:\n",
        "  print(\"positif\")"
      ],
      "metadata": {
        "colab": {
          "base_uri": "https://localhost:8080/"
        },
        "id": "E2IliRME_wOC",
        "outputId": "19461b90-1db1-4655-be57-5f2d2ba439d7"
      },
      "execution_count": 6,
      "outputs": [
        {
          "output_type": "stream",
          "name": "stdout",
          "text": [
            "negatif\n"
          ]
        }
      ]
    },
    {
      "cell_type": "markdown",
      "source": [
        "2.2 Additivité\n",
        "\n",
        "Ecrire un algorithme qui demande un nombre de départ, et qui calcule la somme\n",
        "des entiers jusqu’`a ce nombre. Par exemple, si l’on entre 5, le programme doit\n",
        "calculer : 1 + 2 + 3 + 4 + 5 = 15."
      ],
      "metadata": {
        "id": "-EM9r4bE_wnD"
      }
    },
    {
      "cell_type": "markdown",
      "source": [
        "Pseudo code :\n",
        "\n",
        "int nb \n",
        "\n",
        "int res = 0\n",
        "\n",
        "Pour i allant de 1 à nb+1\n",
        "\n",
        "  res <- res + i\n",
        "\n",
        "  i <- i+1\n",
        "\n",
        "Fpour\n",
        "\n",
        "afficher res"
      ],
      "metadata": {
        "id": "PPqRdpos_wnE"
      }
    },
    {
      "cell_type": "markdown",
      "source": [
        "Python :"
      ],
      "metadata": {
        "id": "xbAEZLoM_wnE"
      }
    },
    {
      "cell_type": "code",
      "source": [
        "nb = 5\n",
        "res = 0\n",
        "\n",
        "for i in range (nb+1):\n",
        "  res+=i\n",
        "  i+=1\n",
        "\n",
        "print (res)\n"
      ],
      "metadata": {
        "colab": {
          "base_uri": "https://localhost:8080/"
        },
        "id": "dng_dwDY_wnH",
        "outputId": "e6c5d2bc-6fa6-4dc4-abd2-b1fde4821307"
      },
      "execution_count": 9,
      "outputs": [
        {
          "output_type": "stream",
          "name": "stdout",
          "text": [
            "15\n"
          ]
        }
      ]
    },
    {
      "cell_type": "markdown",
      "source": [
        "2.3 Somme des éléments d’un tableau\n",
        "Ecrire un algorithme calculant la somme des valeurs d’un tableau (on suppose\n",
        "bien sur que le tableau à été préalablement saisi).\n",
        "\n"
      ],
      "metadata": {
        "id": "hiH_QarI9Pqn"
      }
    },
    {
      "cell_type": "markdown",
      "source": [
        "Pseudo code :\n",
        "\n",
        "int res\n",
        "\n",
        "Pour i allant de 0 à n // n est la taille du tableau\n",
        "\n",
        "  res <- res + élément i du tableau\n",
        "\n",
        "FinPour\n",
        "\n",
        "afficher res"
      ],
      "metadata": {
        "id": "929EK2pt_FtJ"
      }
    },
    {
      "cell_type": "markdown",
      "source": [
        "Python :"
      ],
      "metadata": {
        "id": "mLA8mIvJ_NPT"
      }
    },
    {
      "cell_type": "code",
      "source": [
        "tab = [1, 3, 4, 6]\n",
        "res = 0\n",
        "\n",
        "for i in range (len(tab)):\n",
        "  res += tab[i]\n",
        "\n",
        "print (res)"
      ],
      "metadata": {
        "colab": {
          "base_uri": "https://localhost:8080/"
        },
        "id": "2LBJbQAP_Et_",
        "outputId": "cb13fdc8-e4b4-4e27-ab1f-2ad564e2bdb4"
      },
      "execution_count": 22,
      "outputs": [
        {
          "output_type": "stream",
          "name": "stdout",
          "text": [
            "14\n"
          ]
        }
      ]
    },
    {
      "cell_type": "markdown",
      "source": [
        "2.4 FacProduct\n",
        "\n",
        "Toujours à partir de deux tableaux précédemment saisis, écrire un algorithme qui calcule le ’FacProduct’ des deux tableaux. Pour calculer le ’FacProduct’, il\n",
        "faut multiplier deux à deux les éléments des tableaux et additionner le tout (le\n",
        "résultat ﬁnal doit donc est un réel).\n"
      ],
      "metadata": {
        "id": "f0aub2WTNX0P"
      }
    },
    {
      "cell_type": "markdown",
      "source": [
        "Pseudo code :\n",
        "\n",
        "int res\n",
        "\n",
        "Pour i allant de 0 à n1 // n1 est la taille du tableau1\n",
        "\n",
        "  Pour j allant de 0 à n2 // n2 est la taille du tableau2\n",
        "\n",
        "  res <- élément i du tableau1 * élément j du tableau2\n",
        "\n",
        "  FinPour\n",
        "\n",
        "FinPour\n",
        "\n",
        "afficher res"
      ],
      "metadata": {
        "id": "F2dJiHb7NX0Q"
      }
    },
    {
      "cell_type": "markdown",
      "source": [
        "Python :"
      ],
      "metadata": {
        "id": "PJajMkEvNX0Q"
      }
    },
    {
      "cell_type": "code",
      "source": [
        "tab1 = [1, 2, 3]\n",
        "tab2 = [1, 1, 2]\n",
        "\n",
        "res = 0\n",
        "\n",
        "for i in range (len(tab1)):\n",
        "  for j in range (len(tab2)):\n",
        "    res += tab1[i]*tab2[j]\n",
        "\n",
        "print (res)"
      ],
      "metadata": {
        "colab": {
          "base_uri": "https://localhost:8080/"
        },
        "outputId": "036b630a-2d8a-4e71-8f4a-3a4e0b48440b",
        "id": "DZyvgXjfNX0R"
      },
      "execution_count": 35,
      "outputs": [
        {
          "output_type": "stream",
          "name": "stdout",
          "text": [
            "24\n"
          ]
        }
      ]
    },
    {
      "cell_type": "markdown",
      "source": [
        "2.5 Le plus grand\n",
        "\n",
        "Ecrire un algorithme permettant à l’utilisateur de renvoyer la plus grande valeur du tableau passer en input en précisant quelle position elle occupe dans le tableau.\n"
      ],
      "metadata": {
        "id": "XOyTv0Ixqcu4"
      }
    },
    {
      "cell_type": "markdown",
      "source": [
        "Python :"
      ],
      "metadata": {
        "id": "RAzO8zB7qcu5"
      }
    },
    {
      "cell_type": "code",
      "source": [
        "tab = [1, 15, 9, 20]\n",
        "max = 0\n",
        "indice_max = 0\n",
        "\n",
        "for i in range (len(tab)):\n",
        "   if (max < tab[i]) :\n",
        "     max = tab[i]\n",
        "     indice_max = i\n",
        "\n",
        "print (\"Le max est \",max)\n",
        "print (\"La place du max est \",indice_max+1)"
      ],
      "metadata": {
        "colab": {
          "base_uri": "https://localhost:8080/"
        },
        "outputId": "d0b43eff-f28b-4d12-b407-62d9eae17df6",
        "id": "fE1_SibFqcu6"
      },
      "execution_count": 7,
      "outputs": [
        {
          "output_type": "stream",
          "name": "stdout",
          "text": [
            "Le max est  20\n",
            "La place du max est  4\n"
          ]
        }
      ]
    },
    {
      "cell_type": "markdown",
      "source": [
        "2.6 Plus grand que la moyenne\n",
        "\n",
        "Ecrire un algorithme permettant à l’utilisateur de renvoyer le nombre de valeur\n",
        "supérieures à la moyenne d’un tableau passé en input de taille n."
      ],
      "metadata": {
        "id": "sby9qnIbxtCo"
      }
    },
    {
      "cell_type": "markdown",
      "source": [
        "Python :"
      ],
      "metadata": {
        "id": "BwsnNm4wx-hS"
      }
    },
    {
      "cell_type": "code",
      "source": [
        "tab = [1, 6, 8]\n",
        "moyenne = 0\n",
        "cpt = 0\n",
        "\n",
        "moyenne = sum(tab) / len(tab)\n",
        "\n",
        "for i in range (len(tab)):\n",
        "   if (moyenne < tab[i]) :\n",
        "     cpt += 1\n",
        "\n",
        "print (\"La moyenne est \",moyenne)\n",
        "print (\"Le nombre de valeurs supérieures à la moyenne est \",cpt)"
      ],
      "metadata": {
        "colab": {
          "base_uri": "https://localhost:8080/"
        },
        "id": "R0g8F8bYyBDM",
        "outputId": "ee8f816b-4c87-4b28-dbdd-e89176320f74"
      },
      "execution_count": 28,
      "outputs": [
        {
          "output_type": "stream",
          "name": "stdout",
          "text": [
            "La moyenne est  5.0\n",
            "Le nombre de valeurs supérieures à la moyenne est  2\n"
          ]
        }
      ]
    },
    {
      "cell_type": "markdown",
      "source": [
        "2.7 Multiplier des vecteurs\n",
        "\n",
        "Ecrire un algorithme permettant d’eﬀectuer la multiplication de deux vecteurs\n",
        "de taille N connue à l’avance et d’aﬃcher le résultat.\n",
        "\n",
        "Python :"
      ],
      "metadata": {
        "id": "NbYYmwYMDM-c"
      }
    },
    {
      "cell_type": "code",
      "source": [
        "vec1 = [1, 2, 3]\n",
        "vec2 = [1, 2, 3]\n",
        "\n",
        "vec3 = [0, 0, 0]\n",
        "\n",
        "taille = len(vec1)\n",
        "\n",
        "for i in range (taille) :\n",
        "  \n",
        "  vec3[i] = vec1[i]*vec2[i]\n",
        "\n",
        "print(\" Le produit des 2 vecteurs est :\", vec3)"
      ],
      "metadata": {
        "colab": {
          "base_uri": "https://localhost:8080/"
        },
        "id": "qBaPdQ1jDMXy",
        "outputId": "85da8764-d430-49cb-937b-24cc8f830d4c"
      },
      "execution_count": 65,
      "outputs": [
        {
          "output_type": "stream",
          "name": "stdout",
          "text": [
            " Le produit des 2 vecteurs est : [1, 4, 9]\n"
          ]
        }
      ]
    },
    {
      "cell_type": "markdown",
      "source": [
        "2.8 Tris\n",
        "\n",
        "Ecrire un algorithme permettant de trier un tableau de taille n.\n",
        "\n",
        "Python :"
      ],
      "metadata": {
        "id": "fmNkg1XsE-7x"
      }
    },
    {
      "cell_type": "code",
      "source": [
        "tab = [1, 6, 8, 5, 3, 2, 7]\n",
        "\n",
        "print (tab, \"est le tableau initial\")\n",
        "\n",
        "for i in range (len(tab)):\n",
        "\n",
        "  min = i\n",
        "\n",
        "  for j in range (i,len(tab)):\n",
        "\n",
        "    if ( tab[j] < tab[min] ) :\n",
        "\n",
        "      min = j\n",
        "\n",
        "  tmp = tab[min]\n",
        "\n",
        "  tab[min] = tab[i]\n",
        "\n",
        "  tab[i] = tmp\n",
        "\n",
        "print (tab, \"est le tableau trié\")"
      ],
      "metadata": {
        "colab": {
          "base_uri": "https://localhost:8080/"
        },
        "id": "32BdMiwI_22z",
        "outputId": "3a7c1799-c32d-4bd6-ee07-8c89b1123c5f"
      },
      "execution_count": 27,
      "outputs": [
        {
          "output_type": "stream",
          "name": "stdout",
          "text": [
            "[1, 6, 8, 5, 3, 2, 7] est le tableau initial\n",
            "[1, 2, 3, 5, 6, 7, 8] est le tableau trié\n"
          ]
        }
      ]
    },
    {
      "cell_type": "markdown",
      "source": [
        "2.9 Factorielle\n",
        "\n",
        "Ecrire un algorithme qui demande un nombre de départ, et qui calcule sa factorielle.\n",
        "\n",
        "Python :"
      ],
      "metadata": {
        "id": "UdwoODs1QceG"
      }
    },
    {
      "cell_type": "code",
      "source": [
        "nb = 4\n",
        "\n",
        "res = 1\n",
        "\n",
        "i = nb\n",
        "\n",
        "if (nb == 0 ) :\n",
        "\n",
        "  res = 0 \n",
        "\n",
        "else :\n",
        "\n",
        "  while (i > 0) :\n",
        "\n",
        "    res = res * i\n",
        "\n",
        "    i-= 1\n",
        "\n",
        "print (res)"
      ],
      "metadata": {
        "colab": {
          "base_uri": "https://localhost:8080/"
        },
        "id": "vPNP3jYgQrEZ",
        "outputId": "084f6774-a928-4cdf-bf42-b51de713247f"
      },
      "execution_count": 62,
      "outputs": [
        {
          "output_type": "stream",
          "name": "stdout",
          "text": [
            "24\n"
          ]
        }
      ]
    },
    {
      "cell_type": "markdown",
      "source": [
        "2.10 La multiplication matricielle\n",
        "\n",
        "Ecrire un algorithme qui prend deux matrices carrées A et B de taille n et qui\n",
        "renvoie un élement c i,j (l’élement de la ligne i colonne j) de la matrice C tel\n",
        "que, A × B = C."
      ],
      "metadata": {
        "id": "lrl-NB4xYnaZ"
      }
    },
    {
      "cell_type": "code",
      "source": [
        "mat1 = [[1, 2],[3, 4]]\n",
        "mat2 = [[1, 3],[4, 2]]\n",
        "\n",
        "mat3 = [[0, 0],[0, 0]]\n",
        "\n",
        "taille = len(mat1)\n",
        "\n",
        "for i in range (taille) :\n",
        "\n",
        "  for j in range (taille) :\n",
        "\n",
        "    mat3[i][j] = 0\n",
        "\n",
        "    for k in range (taille) :\n",
        "\n",
        "      mat3[i][j] += mat1[i][k]*mat2[k][j]\n",
        "\n",
        "print(\"Le produit des 2 matrices est : \", mat3)"
      ],
      "metadata": {
        "colab": {
          "base_uri": "https://localhost:8080/"
        },
        "outputId": "0f7d9f59-7810-49f7-9123-a05f528ff0b7",
        "id": "d0q6CgfxWf2g"
      },
      "execution_count": 63,
      "outputs": [
        {
          "output_type": "stream",
          "name": "stdout",
          "text": [
            "Le produit des 2 matrices est :  [[9, 7], [19, 17]]\n"
          ]
        }
      ]
    },
    {
      "cell_type": "markdown",
      "source": [
        "2.11 Suite de Fibonacci\n",
        "\n",
        "La suite de Fibonacci est déﬁnit récursivement par F 0 = 0 , F 1 = 1 et F n+2 =\n",
        "F n+1 + F n pour n ≥ 0. Ecrire une fonction FIBO(n) qui implémente la formule\n",
        "ci-dessus.\n",
        "\n",
        "Python :"
      ],
      "metadata": {
        "id": "gfjqZopWdh77"
      }
    },
    {
      "cell_type": "code",
      "source": [
        "def fibo (n) :\n",
        "\n",
        "  if (n == 0) :\n",
        "\n",
        "    return 0\n",
        "  \n",
        "  elif (n == 1) :\n",
        "\n",
        "    return 1\n",
        "\n",
        "  else :\n",
        "\n",
        "    return  fibo(n-1) + fibo(n-2)\n",
        "\n",
        "fibo(3)\n",
        "\n",
        "def FIBONACCI (n) :\n",
        "\n",
        "  if (n == 0) :\n",
        "\n",
        "    return 0\n",
        "  \n",
        "  elif (n == 1) :\n",
        "\n",
        "    return 1\n",
        "\n",
        "  else :\n",
        "\n",
        "    \n"
      ],
      "metadata": {
        "colab": {
          "base_uri": "https://localhost:8080/"
        },
        "id": "J5nX06pgd1dY",
        "outputId": "cce3da7e-7025-416b-8b5c-aa20cffaaeba"
      },
      "execution_count": 85,
      "outputs": [
        {
          "output_type": "execute_result",
          "data": {
            "text/plain": [
              "2"
            ]
          },
          "metadata": {},
          "execution_count": 85
        }
      ]
    }
  ]
}