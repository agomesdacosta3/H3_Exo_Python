{
  "nbformat": 4,
  "nbformat_minor": 0,
  "metadata": {
    "colab": {
      "provenance": [],
      "collapsed_sections": [],
      "authorship_tag": "ABX9TyMADeGDqvDvX1q9PgYNcbYS",
      "include_colab_link": true
    },
    "kernelspec": {
      "name": "python3",
      "display_name": "Python 3"
    },
    "language_info": {
      "name": "python"
    }
  },
  "cells": [
    {
      "cell_type": "markdown",
      "metadata": {
        "id": "view-in-github",
        "colab_type": "text"
      },
      "source": [
        "<a href=\"https://colab.research.google.com/github/agomesdacosta3/H3_Exo_Python/blob/main/Exos_Python.ipynb\" target=\"_parent\"><img src=\"https://colab.research.google.com/assets/colab-badge.svg\" alt=\"Open In Colab\"/></a>"
      ]
    },
    {
      "cell_type": "markdown",
      "source": [
        "**EXERCICES PYTHON**"
      ],
      "metadata": {
        "id": "CRsfz1Sh-p_W"
      }
    },
    {
      "cell_type": "markdown",
      "source": [
        "2.1 Condition et produit\n",
        "\n",
        "Ecrire un algorithme qui demande deux nombres à l’utilisateur et l’informe en suite si leur produit est négatif ou positif (on laisse de côté le cas où le produit est nul). Attention toute fois : on ne doit pas calculer le produit des deux nombres."
      ],
      "metadata": {
        "id": "KfwPSl3s_wN_"
      }
    },
    {
      "cell_type": "markdown",
      "source": [
        "Pseudo code : \n",
        "\n",
        "int a,b // déclaration de 2 entiers à utiliser\n",
        "\n",
        "Si (a > 0 ET b < 0) OU Si (a < 0 ET b > 0) alors\n",
        "\n",
        "  afficher 'negatif'\n",
        "\n",
        "Sinon \n",
        "  \n",
        "  afficher 'positif'\n",
        "\n",
        "FinSi\n",
        "\n"
      ],
      "metadata": {
        "id": "JvP6KJe__wOA"
      }
    },
    {
      "cell_type": "markdown",
      "source": [
        "Python :"
      ],
      "metadata": {
        "id": "uz9y-LT5_wOA"
      }
    },
    {
      "cell_type": "code",
      "source": [
        "a = int(input(\"Entrez un 1er nombre : \"))\n",
        "\n",
        "b = int(input(\"Entrez un 2eme nombre : \"))\n",
        "\n",
        "if (a > 0) & (b < 0) | (b > 0) & (a < 0):\n",
        "\n",
        "  print(\"Le produit est negatif\")\n",
        "\n",
        "else:\n",
        "\n",
        "  print(\"Le produit est positif\")"
      ],
      "metadata": {
        "colab": {
          "base_uri": "https://localhost:8080/"
        },
        "id": "E2IliRME_wOC",
        "outputId": "766f3ea3-691d-48d5-c50d-0d02e766e75e"
      },
      "execution_count": 6,
      "outputs": [
        {
          "output_type": "stream",
          "name": "stdout",
          "text": [
            "Entrez un 1er nombre : 1\n",
            "Entrez un 2eme nombre : -2\n",
            "Le produit est negatif\n"
          ]
        }
      ]
    },
    {
      "cell_type": "markdown",
      "source": [
        "2.2 Additivité\n",
        "\n",
        "Ecrire un algorithme qui demande un nombre de départ, et qui calcule la somme\n",
        "des entiers jusqu’`a ce nombre. Par exemple, si l’on entre 5, le programme doit\n",
        "calculer : 1 + 2 + 3 + 4 + 5 = 15."
      ],
      "metadata": {
        "id": "-EM9r4bE_wnD"
      }
    },
    {
      "cell_type": "markdown",
      "source": [
        "Pseudo code :\n",
        "\n",
        "int nb \n",
        "\n",
        "int res = 0\n",
        "\n",
        "Pour i allant de 1 à nb+1\n",
        "\n",
        "  res <- res + i\n",
        "\n",
        "  i <- i+1\n",
        "\n",
        "Fpour\n",
        "\n",
        "afficher res"
      ],
      "metadata": {
        "id": "PPqRdpos_wnE"
      }
    },
    {
      "cell_type": "markdown",
      "source": [
        "Python :"
      ],
      "metadata": {
        "id": "xbAEZLoM_wnE"
      }
    },
    {
      "cell_type": "code",
      "source": [
        "nb = int(input(\"Entrez un nombre : \"))\n",
        "\n",
        "res = 0\n",
        "\n",
        "for i in range (nb+1):\n",
        "\n",
        "  res+=i\n",
        "\n",
        "  i+=1\n",
        "\n",
        "print (\"La somme des entiers allant jusqu'a\", nb, \"est égal à\",res)\n"
      ],
      "metadata": {
        "colab": {
          "base_uri": "https://localhost:8080/"
        },
        "id": "dng_dwDY_wnH",
        "outputId": "5e94c05b-2370-4576-f2f7-6e4bd51ee87c"
      },
      "execution_count": 5,
      "outputs": [
        {
          "output_type": "stream",
          "name": "stdout",
          "text": [
            "Entrez un nombre : 5\n",
            "La somme des entiers allant jusqu'a 5 est égal à 15\n"
          ]
        }
      ]
    },
    {
      "cell_type": "markdown",
      "source": [
        "2.3 Somme des éléments d’un tableau\n",
        "\n",
        "Ecrire un algorithme calculant la somme des valeurs d’un tableau (on suppose\n",
        "bien sur que le tableau à été préalablement saisi).\n",
        "\n"
      ],
      "metadata": {
        "id": "hiH_QarI9Pqn"
      }
    },
    {
      "cell_type": "markdown",
      "source": [
        "Pseudo code :\n",
        "\n",
        "int res\n",
        "\n",
        "Pour i allant de 0 à n // n est la taille du tableau\n",
        "\n",
        "  res <- res + élément i du tableau\n",
        "\n",
        "FinPour\n",
        "\n",
        "afficher res"
      ],
      "metadata": {
        "id": "929EK2pt_FtJ"
      }
    },
    {
      "cell_type": "markdown",
      "source": [
        "Python :"
      ],
      "metadata": {
        "id": "mLA8mIvJ_NPT"
      }
    },
    {
      "cell_type": "code",
      "source": [
        "tab = [1, 3, 4, 6]\n",
        "\n",
        "res = 0\n",
        "\n",
        "for i in range (len(tab)):\n",
        "  res += tab[i]\n",
        "\n",
        "print (\"La somme des éléments du tableau est\",res)"
      ],
      "metadata": {
        "colab": {
          "base_uri": "https://localhost:8080/"
        },
        "id": "2LBJbQAP_Et_",
        "outputId": "f0a91072-73ab-43be-cae0-f4f65765b3d7"
      },
      "execution_count": 8,
      "outputs": [
        {
          "output_type": "stream",
          "name": "stdout",
          "text": [
            "La somme des éléments du tableau est 14\n"
          ]
        }
      ]
    },
    {
      "cell_type": "markdown",
      "source": [
        "2.4 FacProduct\n",
        "\n",
        "Toujours à partir de deux tableaux précédemment saisis, écrire un algorithme qui calcule le ’FacProduct’ des deux tableaux. Pour calculer le ’FacProduct’, il\n",
        "faut multiplier deux à deux les éléments des tableaux et additionner le tout (le\n",
        "résultat ﬁnal doit donc est un réel).\n"
      ],
      "metadata": {
        "id": "f0aub2WTNX0P"
      }
    },
    {
      "cell_type": "markdown",
      "source": [
        "Pseudo code :\n",
        "\n",
        "int res\n",
        "\n",
        "Pour i allant de 0 à n1 // n1 est la taille du tableau1\n",
        "\n",
        "  Pour j allant de 0 à n2 // n2 est la taille du tableau2\n",
        "\n",
        "  res <- élément i du tableau1 * élément j du tableau2\n",
        "\n",
        "  FinPour\n",
        "\n",
        "FinPour\n",
        "\n",
        "afficher res"
      ],
      "metadata": {
        "id": "F2dJiHb7NX0Q"
      }
    },
    {
      "cell_type": "markdown",
      "source": [
        "Python :"
      ],
      "metadata": {
        "id": "PJajMkEvNX0Q"
      }
    },
    {
      "cell_type": "code",
      "source": [
        "tab1 = [1, 2, 3]\n",
        "tab2 = [1, 1, 2]\n",
        "\n",
        "res = 0\n",
        "\n",
        "for i in range (len(tab1)):\n",
        "  for j in range (len(tab2)):\n",
        "    res += tab1[i]*tab2[j]\n",
        "\n",
        "print (\"Le 'FactProduct' des tableau est égal à\",res)"
      ],
      "metadata": {
        "colab": {
          "base_uri": "https://localhost:8080/"
        },
        "outputId": "6d738a5e-d9a9-43c0-f811-74e8d8a87a9c",
        "id": "DZyvgXjfNX0R"
      },
      "execution_count": 10,
      "outputs": [
        {
          "output_type": "stream",
          "name": "stdout",
          "text": [
            "Le 'FactProduct' des tableau est égal à 24\n"
          ]
        }
      ]
    },
    {
      "cell_type": "markdown",
      "source": [
        "2.5 Le plus grand\n",
        "\n",
        "Ecrire un algorithme permettant à l’utilisateur de renvoyer la plus grande valeur du tableau passer en input en précisant quelle position elle occupe dans le tableau.\n"
      ],
      "metadata": {
        "id": "XOyTv0Ixqcu4"
      }
    },
    {
      "cell_type": "markdown",
      "source": [
        "Python :"
      ],
      "metadata": {
        "id": "RAzO8zB7qcu5"
      }
    },
    {
      "cell_type": "code",
      "source": [
        "tab = [1, 15, 9, 20]\n",
        "max = 0\n",
        "indice_max = 0\n",
        "\n",
        "for i in range (len(tab)):\n",
        "   if (max < tab[i]) :\n",
        "     max = tab[i]\n",
        "     indice_max = i\n",
        "\n",
        "print (\"Le max du tableau est\",max)\n",
        "print (\"La place du max est\",indice_max+1) # exemple : indice_max = 2 => Le max est le 2ème élément du tableau"
      ],
      "metadata": {
        "colab": {
          "base_uri": "https://localhost:8080/"
        },
        "outputId": "7f2fec71-2691-4a73-847b-5d2b29dbc7fc",
        "id": "fE1_SibFqcu6"
      },
      "execution_count": 12,
      "outputs": [
        {
          "output_type": "stream",
          "name": "stdout",
          "text": [
            "Le max du tableau est 20\n",
            "La place du max est 4\n"
          ]
        }
      ]
    },
    {
      "cell_type": "markdown",
      "source": [
        "2.6 Plus grand que la moyenne\n",
        "\n",
        "Ecrire un algorithme permettant à l’utilisateur de renvoyer le nombre de valeur\n",
        "supérieures à la moyenne d’un tableau passé en input de taille n."
      ],
      "metadata": {
        "id": "sby9qnIbxtCo"
      }
    },
    {
      "cell_type": "markdown",
      "source": [
        "Python :"
      ],
      "metadata": {
        "id": "BwsnNm4wx-hS"
      }
    },
    {
      "cell_type": "code",
      "source": [
        "tab = [1, 6, 8]\n",
        "moyenne = 0\n",
        "cpt = 0\n",
        "\n",
        "moyenne = sum(tab) / len(tab)\n",
        "\n",
        "for i in range (len(tab)):\n",
        "   if (moyenne < tab[i]) :\n",
        "     cpt += 1\n",
        "\n",
        "print (\"La moyenne est\",moyenne)\n",
        "print (\"Le nombre de valeurs supérieures à la moyenne est\",cpt)"
      ],
      "metadata": {
        "colab": {
          "base_uri": "https://localhost:8080/"
        },
        "id": "R0g8F8bYyBDM",
        "outputId": "94cec0fc-0f43-4d28-d982-25f234ff7934"
      },
      "execution_count": 13,
      "outputs": [
        {
          "output_type": "stream",
          "name": "stdout",
          "text": [
            "La moyenne est 5.0\n",
            "Le nombre de valeurs supérieures à la moyenne est 2\n"
          ]
        }
      ]
    },
    {
      "cell_type": "markdown",
      "source": [
        "2.7 Multiplier des vecteurs\n",
        "\n",
        "Ecrire un algorithme permettant d’eﬀectuer la multiplication de deux vecteurs\n",
        "de taille N connue à l’avance et d’aﬃcher le résultat.\n",
        "\n",
        "Python :"
      ],
      "metadata": {
        "id": "NbYYmwYMDM-c"
      }
    },
    {
      "cell_type": "code",
      "source": [
        "vec1 = [1, 2, 3]\n",
        "vec2 = [1, 2, 3]\n",
        "\n",
        "vec3 = [0, 0, 0]\n",
        "\n",
        "taille = len(vec1)\n",
        "\n",
        "for i in range (taille) :\n",
        "  \n",
        "  vec3[i] = vec1[i]*vec2[i]\n",
        "\n",
        "print(\"Le produit des 2 vecteurs est :\", vec3)"
      ],
      "metadata": {
        "colab": {
          "base_uri": "https://localhost:8080/"
        },
        "id": "qBaPdQ1jDMXy",
        "outputId": "73bf1287-6a07-4dc7-9c64-f7ccb6da757a"
      },
      "execution_count": 14,
      "outputs": [
        {
          "output_type": "stream",
          "name": "stdout",
          "text": [
            "Le produit des 2 vecteurs est : [1, 4, 9]\n"
          ]
        }
      ]
    },
    {
      "cell_type": "markdown",
      "source": [
        "2.8 Tris\n",
        "\n",
        "Ecrire un algorithme permettant de trier un tableau de taille n.\n",
        "\n",
        "Python :"
      ],
      "metadata": {
        "id": "fmNkg1XsE-7x"
      }
    },
    {
      "cell_type": "code",
      "source": [
        "tab = [1, 6, 8, 5, 3, 2, 7]\n",
        "\n",
        "print (tab, \"est le tableau initial\")\n",
        "\n",
        "for i in range (len(tab)):\n",
        "\n",
        "  min = i\n",
        "\n",
        "  for j in range (i,len(tab)):\n",
        "\n",
        "    if (tab[j] < tab[min]) :\n",
        "\n",
        "      min = j\n",
        "\n",
        "  tmp = tab[min]\n",
        "\n",
        "  tab[min] = tab[i]\n",
        "\n",
        "  tab[i] = tmp\n",
        "\n",
        "print (tab, \"est le tableau trié\")"
      ],
      "metadata": {
        "colab": {
          "base_uri": "https://localhost:8080/"
        },
        "id": "32BdMiwI_22z",
        "outputId": "3a7c1799-c32d-4bd6-ee07-8c89b1123c5f"
      },
      "execution_count": 27,
      "outputs": [
        {
          "output_type": "stream",
          "name": "stdout",
          "text": [
            "[1, 6, 8, 5, 3, 2, 7] est le tableau initial\n",
            "[1, 2, 3, 5, 6, 7, 8] est le tableau trié\n"
          ]
        }
      ]
    },
    {
      "cell_type": "markdown",
      "source": [
        "2.9 Factorielle\n",
        "\n",
        "Ecrire un algorithme qui demande un nombre de départ, et qui calcule sa factorielle.\n",
        "\n",
        "Python :"
      ],
      "metadata": {
        "id": "UdwoODs1QceG"
      }
    },
    {
      "cell_type": "code",
      "source": [
        "nb = int(input(\"Entrez un nombre : \"))\n",
        "\n",
        "res = 1\n",
        "\n",
        "i = nb\n",
        "\n",
        "if (nb == 0 ) :\n",
        "\n",
        "  res = 0 \n",
        "\n",
        "else :\n",
        "\n",
        "  while (i > 0) :\n",
        "\n",
        "    res = res * i\n",
        "\n",
        "    i-= 1\n",
        "\n",
        "print (\"La factorielle de\",nb, \"est\",res)"
      ],
      "metadata": {
        "colab": {
          "base_uri": "https://localhost:8080/"
        },
        "id": "vPNP3jYgQrEZ",
        "outputId": "70bfea85-ad76-4256-dd33-7be65a9528f7"
      },
      "execution_count": 16,
      "outputs": [
        {
          "output_type": "stream",
          "name": "stdout",
          "text": [
            "Entrez un nombre : 4\n",
            "La factorielle de 4 est 24\n"
          ]
        }
      ]
    },
    {
      "cell_type": "markdown",
      "source": [
        "2.10 La multiplication matricielle\n",
        "\n",
        "Ecrire un algorithme qui prend deux matrices carrées A et B de taille n et qui\n",
        "renvoie un élement c i,j (l’élement de la ligne i colonne j) de la matrice C tel\n",
        "que, A × B = C."
      ],
      "metadata": {
        "id": "lrl-NB4xYnaZ"
      }
    },
    {
      "cell_type": "code",
      "source": [
        "mat1 = [[1, 2],[3, 4]]\n",
        "mat2 = [[1, 3],[4, 2]]\n",
        "\n",
        "mat3 = [[0, 0],[0, 0]]\n",
        "\n",
        "taille = len(mat1)\n",
        "\n",
        "for i in range (taille) :\n",
        "\n",
        "  for j in range (taille) :\n",
        "\n",
        "    mat3[i][j] = 0\n",
        "\n",
        "    for k in range (taille) :\n",
        "\n",
        "      mat3[i][j] += mat1[i][k]*mat2[k][j]\n",
        "\n",
        "print(\"Le produit des 2 matrices est : \", mat3)"
      ],
      "metadata": {
        "colab": {
          "base_uri": "https://localhost:8080/"
        },
        "outputId": "0f7d9f59-7810-49f7-9123-a05f528ff0b7",
        "id": "d0q6CgfxWf2g"
      },
      "execution_count": 63,
      "outputs": [
        {
          "output_type": "stream",
          "name": "stdout",
          "text": [
            "Le produit des 2 matrices est :  [[9, 7], [19, 17]]\n"
          ]
        }
      ]
    },
    {
      "cell_type": "markdown",
      "source": [
        "2.11 Suite de Fibonacci\n",
        "\n",
        "La suite de Fibonacci est déﬁnit récursivement par F 0 = 0 , F 1 = 1 et F n+2 =\n",
        "F n+1 + F n pour n ≥ 0. Ecrire une fonction FIBO(n) qui implémente la formule\n",
        "ci-dessus.\n",
        "\n",
        "Python :"
      ],
      "metadata": {
        "id": "gfjqZopWdh77"
      }
    },
    {
      "cell_type": "code",
      "source": [
        "def fibo (n) :\n",
        "\n",
        "  if (n == 0) :\n",
        "\n",
        "    return 0\n",
        "  \n",
        "  elif (n == 1) :\n",
        "\n",
        "    return 1\n",
        "\n",
        "  else :\n",
        "\n",
        "    return fibo(n-1) + fibo(n-2)\n",
        "\n",
        "fibo(3)"
      ],
      "metadata": {
        "colab": {
          "base_uri": "https://localhost:8080/"
        },
        "id": "J5nX06pgd1dY",
        "outputId": "68ae1d8a-15fa-4414-8d3e-73333e11d3cf"
      },
      "execution_count": 18,
      "outputs": [
        {
          "output_type": "execute_result",
          "data": {
            "text/plain": [
              "2"
            ]
          },
          "metadata": {},
          "execution_count": 18
        }
      ]
    },
    {
      "cell_type": "markdown",
      "source": [
        "2.12 Le temps d’arrêt\n",
        "\n",
        "Ecrire un algorithme qui détermine le plus petit entier n tel que (H) dépasse un réel α donné.\n",
        "\n",
        "Python :"
      ],
      "metadata": {
        "id": "JucaSghwJSGG"
      }
    },
    {
      "cell_type": "code",
      "source": [
        "reel = float(input(\"Entrez un reel : \"))\n",
        "\n",
        "cpt = 1\n",
        "\n",
        "h = 0\n",
        "\n",
        "# h est le résultat de la somme, cpt sert à déterminer le plus petit nombre qui dépasse le réel\n",
        "\n",
        "while (float(h) <= reel) :\n",
        "\n",
        "  h += 1/cpt\n",
        "\n",
        "  cpt+=1\n",
        "\n",
        "cpt-= 1\n",
        "\n",
        "print (cpt,\"est le plus petit entier tel que (H) dépasse\",reel)\n"
      ],
      "metadata": {
        "colab": {
          "base_uri": "https://localhost:8080/"
        },
        "id": "mpXb317VJ3rm",
        "outputId": "84854e00-f3c4-41df-da81-1f7289ac760c"
      },
      "execution_count": 32,
      "outputs": [
        {
          "output_type": "stream",
          "name": "stdout",
          "text": [
            "Entrez un reel : 2.5\n",
            "7 est le plus petit entier tel que (H) dépasse 2.5\n"
          ]
        }
      ]
    },
    {
      "cell_type": "markdown",
      "source": [
        "Rappel sur syntaxe Python :"
      ],
      "metadata": {
        "id": "0HzxLycdAxsE"
      }
    },
    {
      "cell_type": "code",
      "source": [
        "var = [x for x in range (10) if x%2 == 0]\n",
        "var = [ [x for x in range (10)] for y in range (10)]\n",
        "for i,e in enumerate(var):\n",
        "  print(i,e)"
      ],
      "metadata": {
        "id": "9lrxa3Gr7RNO"
      },
      "execution_count": null,
      "outputs": []
    },
    {
      "cell_type": "markdown",
      "source": [
        "Distance de Levenshtein\n"
      ],
      "metadata": {
        "id": "knQ3f_IK7vur"
      }
    },
    {
      "cell_type": "code",
      "source": [
        "def afficheTab (tab) :\n",
        "\n",
        "  for i in range (len(tab)) :\n",
        "    print(tab[i])\n",
        "\n",
        "\n",
        "\n",
        "def levenshtein (mot1:str, mot2:str) :\n",
        "\n",
        "  taille1 = len(mot1)\n",
        "\n",
        "  taille2 = len(mot2)\n",
        "\n",
        "# initialisation du tableau\n",
        "\n",
        "  tab = [ [0 for x in range (taille1 + 1)] for y in range (taille2 + 1)]\n",
        "\n",
        "  for i in range (1,taille2 + 1) :\n",
        "\n",
        "    tab[i][0] = tab[i-1][0] + 1\n",
        "    \n",
        "  for j in range (1,taille1 + 1) :\n",
        "    \n",
        "    tab[0][j] = tab[0][j-1] + 1\n",
        "\n",
        "# Remplissage du tableau\n",
        "\n",
        "  for i in range (1,taille2 + 1) :\n",
        "\n",
        "    for j in range (1,taille1 + 1) :\n",
        "\n",
        "      if (mot2[i-1] == mot1[j-1]) : # on gère le cas où les lettres sont les mêmes\n",
        "\n",
        "        tab[i][j] = min(tab[i-1][j],tab[i][j-1],tab[i-1][j-1])\n",
        "\n",
        "      else :\n",
        "\n",
        "        tab[i][j] = min(tab[i-1][j],tab[i][j-1],tab[i-1][j-1]) + 1\n",
        "\n",
        "  afficheTab(tab)\n",
        "\n",
        "  return tab[taille2][taille1]\n",
        "\n",
        "\n",
        "\n",
        "mot1 = str(input(\"Entrez un 1er mot : \"))\n",
        "\n",
        "mot2 = str(input(\"Entrez un 2ème mot : \"))\n",
        "\n",
        "distance = levenshtein(mot1,mot2)\n",
        "\n",
        "print(\"La distance de Levenshtein entre\", mot1, \"et\", mot2, \"est\", distance)"
      ],
      "metadata": {
        "colab": {
          "base_uri": "https://localhost:8080/"
        },
        "id": "zT7xdlTc8E0B",
        "outputId": "088d1886-64b2-4c22-dbc1-58967fc51094"
      },
      "execution_count": 57,
      "outputs": [
        {
          "output_type": "stream",
          "name": "stdout",
          "text": [
            "Entrez un 1er mot : macon\n",
            "Entrez un 2ème mot : maison\n",
            "[0, 1, 2, 3, 4, 5]\n",
            "[1, 0, 1, 2, 3, 4]\n",
            "[2, 1, 0, 1, 2, 3]\n",
            "[3, 2, 1, 1, 2, 3]\n",
            "[4, 3, 2, 2, 2, 3]\n",
            "[5, 4, 3, 3, 2, 3]\n",
            "[6, 5, 4, 4, 3, 2]\n",
            "La distance de Levenshtein entre macon et maison est 2\n"
          ]
        }
      ]
    },
    {
      "cell_type": "markdown",
      "source": [
        "Maximum de non adjacent\n",
        "\n"
      ],
      "metadata": {
        "id": "yuRseewXdIkN"
      }
    },
    {
      "cell_type": "code",
      "source": [
        "tab_init = [75, 105, 120, 75, 90, 135]\n",
        "\n",
        "res = 0\n",
        "\n",
        "tab = []\n",
        "\n",
        "if (len(tab_init) == 0) :\n",
        "\n",
        "  print(\"Le résultat est\",res)\n",
        "\n",
        "elif (len(tab_init) == 1) :\n",
        "\n",
        "  tab.append(tab_init[0])\n",
        "\n",
        "  res = tab_init[0]\n",
        "\n",
        "  print(\"Le résultat est\",res)\n",
        "\n",
        "else :\n",
        "\n",
        "  tab.append(tab_init[0])\n",
        "\n",
        "  first_max = (max(tab_init[0],tab_init[1]))\n",
        "\n",
        "  tab.append(first_max)\n",
        "\n",
        "  for i in range (2,len(tab_init)) :\n",
        "\n",
        "    tab.append(max(tab[i-1], tab_init[i]+tab[i-2]))\n",
        "\n",
        "    res = tab[len(tab)-1]\n",
        "\n",
        "  print(\"Le résultat est\",res)"
      ],
      "metadata": {
        "colab": {
          "base_uri": "https://localhost:8080/"
        },
        "id": "3YmSHc8IdIX0",
        "outputId": "bc24cdab-dde3-4453-bf28-3acd05069636"
      },
      "execution_count": 75,
      "outputs": [
        {
          "output_type": "stream",
          "name": "stdout",
          "text": [
            "Le résultat est 330\n"
          ]
        }
      ]
    },
    {
      "cell_type": "code",
      "source": [],
      "metadata": {
        "id": "uQf8-UGxh4iS"
      },
      "execution_count": null,
      "outputs": []
    }
  ]
}