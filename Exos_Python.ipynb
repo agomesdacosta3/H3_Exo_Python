{
  "nbformat": 4,
  "nbformat_minor": 0,
  "metadata": {
    "colab": {
      "provenance": [],
      "collapsed_sections": [],
      "authorship_tag": "ABX9TyMeM4qLSPq5KxCP/1u/+H88",
      "include_colab_link": true
    },
    "kernelspec": {
      "name": "python3",
      "display_name": "Python 3"
    },
    "language_info": {
      "name": "python"
    }
  },
  "cells": [
    {
      "cell_type": "markdown",
      "metadata": {
        "id": "view-in-github",
        "colab_type": "text"
      },
      "source": [
        "<a href=\"https://colab.research.google.com/github/agomesdacosta3/H3_Exo_Python/blob/main/Exos_Python.ipynb\" target=\"_parent\"><img src=\"https://colab.research.google.com/assets/colab-badge.svg\" alt=\"Open In Colab\"/></a>"
      ]
    },
    {
      "cell_type": "markdown",
      "source": [
        "**EXERCICES PYTHON**"
      ],
      "metadata": {
        "id": "CRsfz1Sh-p_W"
      }
    },
    {
      "cell_type": "markdown",
      "source": [
        "2.1 Condition et produit\n",
        "\n",
        "Ecrire un algorithme qui demande deux nombres à l’utilisateur et l’informe en suite si leur produit est négatif ou positif (on laisse de côté le cas où le produit est nul). Attention toute fois : on ne doit pas calculer le produit des deux nombres."
      ],
      "metadata": {
        "id": "KfwPSl3s_wN_"
      }
    },
    {
      "cell_type": "markdown",
      "source": [
        "Pseudo code : \n",
        "\n",
        "int a,b // déclaration de 2 entiers à utiliser\n",
        "\n",
        "Si (a > 0 ET b < 0) OU Si (a < 0 ET b > 0) alors\n",
        "\n",
        "  afficher 'negatif'\n",
        "\n",
        "Sinon \n",
        "  \n",
        "  afficher 'positif'\n",
        "\n",
        "FinSi\n",
        "\n"
      ],
      "metadata": {
        "id": "JvP6KJe__wOA"
      }
    },
    {
      "cell_type": "markdown",
      "source": [
        "Python :"
      ],
      "metadata": {
        "id": "uz9y-LT5_wOA"
      }
    },
    {
      "cell_type": "code",
      "source": [
        "a = 5\n",
        "b = -2\n",
        "\n",
        "if (a > 0) & (b < 0) | (b > 0) & (a < 0):\n",
        "  print(\"negatif\")\n",
        "else:\n",
        "  print(\"positif\")"
      ],
      "metadata": {
        "colab": {
          "base_uri": "https://localhost:8080/"
        },
        "id": "E2IliRME_wOC",
        "outputId": "19461b90-1db1-4655-be57-5f2d2ba439d7"
      },
      "execution_count": 6,
      "outputs": [
        {
          "output_type": "stream",
          "name": "stdout",
          "text": [
            "negatif\n"
          ]
        }
      ]
    },
    {
      "cell_type": "markdown",
      "source": [
        "2.2 Additivité\n",
        "\n",
        "Ecrire un algorithme qui demande un nombre de départ, et qui calcule la somme\n",
        "des entiers jusqu’`a ce nombre. Par exemple, si l’on entre 5, le programme doit\n",
        "calculer : 1 + 2 + 3 + 4 + 5 = 15."
      ],
      "metadata": {
        "id": "-EM9r4bE_wnD"
      }
    },
    {
      "cell_type": "markdown",
      "source": [
        "Pseudo code :\n",
        "\n",
        "int nb \n",
        "\n",
        "int res = 0\n",
        "\n",
        "Pour i allant de 1 à nb+1\n",
        "\n",
        "  res = res + i\n",
        "  \n",
        "  i = i+1\n",
        "\n",
        "Fpour\n",
        "\n",
        "afficher res"
      ],
      "metadata": {
        "id": "PPqRdpos_wnE"
      }
    },
    {
      "cell_type": "markdown",
      "source": [
        "Python :"
      ],
      "metadata": {
        "id": "xbAEZLoM_wnE"
      }
    },
    {
      "cell_type": "code",
      "source": [
        "nb = 5\n",
        "res = 0\n",
        "\n",
        "for i in range (nb+1):\n",
        "  res+=i\n",
        "  i+=1\n",
        "\n",
        "print (res)\n"
      ],
      "metadata": {
        "colab": {
          "base_uri": "https://localhost:8080/"
        },
        "id": "dng_dwDY_wnH",
        "outputId": "e6c5d2bc-6fa6-4dc4-abd2-b1fde4821307"
      },
      "execution_count": 9,
      "outputs": [
        {
          "output_type": "stream",
          "name": "stdout",
          "text": [
            "15\n"
          ]
        }
      ]
    },
    {
      "cell_type": "markdown",
      "source": [
        "2.3 Somme des éléments d’un tableau\n",
        "Ecrire un algorithme calculant la somme des valeurs d’un tableau (on suppose\n",
        "bien sur que le tableau à été préalablement saisi).\n",
        "\n"
      ],
      "metadata": {
        "id": "hiH_QarI9Pqn"
      }
    },
    {
      "cell_type": "markdown",
      "source": [
        "Pseudo code :\n",
        "\n",
        "int res\n",
        "\n",
        "Pour i allant de 0 à n // n est la taille du tableau\n",
        "\n",
        "  res = res + élément i du tableau\n",
        "  \n",
        "FinPour\n",
        "\n",
        "afficher res"
      ],
      "metadata": {
        "id": "929EK2pt_FtJ"
      }
    },
    {
      "cell_type": "markdown",
      "source": [
        "Python :"
      ],
      "metadata": {
        "id": "mLA8mIvJ_NPT"
      }
    },
    {
      "cell_type": "code",
      "source": [
        "tab = [1, 3, 4, 6]\n",
        "res = 0\n",
        "\n",
        "for i in range (len(tab)):\n",
        "  res += tab[i]\n",
        "\n",
        "print (res)"
      ],
      "metadata": {
        "colab": {
          "base_uri": "https://localhost:8080/"
        },
        "id": "2LBJbQAP_Et_",
        "outputId": "cb13fdc8-e4b4-4e27-ab1f-2ad564e2bdb4"
      },
      "execution_count": 22,
      "outputs": [
        {
          "output_type": "stream",
          "name": "stdout",
          "text": [
            "14\n"
          ]
        }
      ]
    },
    {
      "cell_type": "markdown",
      "source": [
        "2.4 FacProduct\n",
        "\n",
        "Toujours à partir de deux tableaux précédemment saisis, écrire un algorithme qui calcule le ’FacProduct’ des deux tableaux. Pour calculer le ’FacProduct’, il\n",
        "faut multiplier deux à deux les éléments des tableaux et additionner le tout (le\n",
        "résultat ﬁnal doit donc est un réel).\n"
      ],
      "metadata": {
        "id": "f0aub2WTNX0P"
      }
    },
    {
      "cell_type": "markdown",
      "source": [
        "Pseudo code :\n",
        "\n",
        "int res\n",
        "\n",
        "Pour i allant de 0 à n1 // n1 est la taille du tableau1\n",
        "\n",
        "  Pour j allant de 0 à n2 // n2 est la taille du tableau2\n",
        "\n",
        "      res = élément i du tableau1 * élément j du tableau2\n",
        "\n",
        "  FinPour\n",
        "  \n",
        "FinPour\n",
        "\n",
        "afficher res"
      ],
      "metadata": {
        "id": "F2dJiHb7NX0Q"
      }
    },
    {
      "cell_type": "markdown",
      "source": [
        "Python :"
      ],
      "metadata": {
        "id": "PJajMkEvNX0Q"
      }
    },
    {
      "cell_type": "code",
      "source": [
        "tab1 = [1, 3, 4, 2]\n",
        "tab2 = [3, 4, 2, 3]\n",
        "\n",
        "res = 0\n",
        "\n",
        "\n",
        "\n",
        "for i in range (len(tab1)):\n",
        "  for j in range (len(tab2)):\n",
        "    res += tab1[i]*tab2[j]\n",
        "\n",
        "print (res)"
      ],
      "metadata": {
        "colab": {
          "base_uri": "https://localhost:8080/"
        },
        "outputId": "9f5c1f42-4b1f-497f-f68f-13f9ffe87241",
        "id": "DZyvgXjfNX0R"
      },
      "execution_count": 34,
      "outputs": [
        {
          "output_type": "stream",
          "name": "stdout",
          "text": [
            "120\n"
          ]
        }
      ]
    }
  ]
}